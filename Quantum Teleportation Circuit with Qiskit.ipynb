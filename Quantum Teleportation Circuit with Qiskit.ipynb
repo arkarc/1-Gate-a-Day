{
 "cells": [
  {
   "attachments": {},
   "cell_type": "markdown",
   "metadata": {},
   "source": [
    "# Alice in QuantumLand\n",
    "##Quantum Teleportation Circuit\n",
    "\n",
    "Alice and Bob, have been helping me (and I am sure many of you) understand the nuances of transmitting information securely and privately across communication channels ever since I was an undergrad student. Consequently, I am not surprised that I met them again when I was trying to teleport quantum information from one qubit to another.\n",
    "Copying information from one classical bit to another doesn’t intrigue anyone, but copying one quantum bit information to another is a completely different game. (no-cloning theorem in quantum mechanics, prohibits identical copies of quantum states | also read about: “spooky action at a distance”)\n",
    "\n",
    "So how does Alice send one qubit of quantum information to Bob?\n"
   ]
  },
  {
   "cell_type": "code",
   "execution_count": 11,
   "metadata": {},
   "outputs": [],
   "source": [
    "# let's import all the libraries that Alice and Bob needs to communicate \n",
    "from qiskit import(\n",
    "  QuantumCircuit,\n",
    "  execute,\n",
    "  Aer)\n",
    "from qiskit.visualization import plot_histogram\n",
    "%matplotlib inline"
   ]
  },
  {
   "cell_type": "code",
   "execution_count": 12,
   "metadata": {},
   "outputs": [
    {
     "data": {
      "text/plain": [
       "<qiskit.circuit.instructionset.InstructionSet at 0x125d006a0>"
      ]
     },
     "execution_count": 12,
     "metadata": {},
     "output_type": "execute_result"
    }
   ],
   "source": [
    "# Define a Quantum circuit with three qubits and three classical bits for measurement \n",
    "#(Alice will teleport information from q0 to q2)\n",
    "\n",
    "qc = QuantumCircuit(3,3)\n",
    "\n",
    "# Alice can apply a Pauli X on q_0 to make it equivalent to classical 1 (Alice is trying to send information in q_0 to Bob)\n",
    "# In this particular case she will send the output state of Hadamard gate to Bob\n",
    "qc.h(0)\n",
    "qc.barrier()\n",
    "\n",
    "#We will create an entanglement (Bell state) between q_1 and q_2 and share it with both Alice and Bob\n",
    "qc.h(1)\n",
    "qc.cx(1,2)\n",
    "qc.barrier()\n",
    "\n",
    "# Alice applies a CNOT on q_1\n",
    "qc.cx(0,1)\n",
    "# Alice applies a Hadamard on q_0\n",
    "qc.h(0)\n",
    "# Alice measures the qubit 0 and qubit 1 and shares with Bob\n",
    "qc.measure([0,1],[0,1])\n",
    "qc.barrier()\n",
    "\n",
    "# if Bob receives q_0=0 and q_1=0 he does nothing. \n",
    "# For q_0=0 and q_1=1 he applies Pauli-X\n",
    "# for q_0=1 and q_1=0 he applies Pauli-Z\n",
    "# for q_0=1 and q_1=1 he applies both X & Z\n",
    "qc.cx(1,2)\n",
    "qc.cz(0,2)\n",
    "\n",
    "# q_0 is teleported to q_2\n",
    "qc.measure(2,2)"
   ]
  },
  {
   "cell_type": "code",
   "execution_count": 13,
   "metadata": {
    "scrolled": false
   },
   "outputs": [
    {
     "data": {
      "text/html": [
       "<pre style=\"word-wrap: normal;white-space: pre;background: #fff0;line-height: 1.1;font-family: &quot;Courier New&quot;,Courier,monospace\">     ┌───┐ ░            ░      ┌───┐┌─┐ ░            \n",
       "q_0: ┤ H ├─░────────────░───■──┤ H ├┤M├─░───────■────\n",
       "     └───┘ ░ ┌───┐      ░ ┌─┴─┐└┬─┬┘└╥┘ ░       │    \n",
       "q_1: ──────░─┤ H ├──■───░─┤ X ├─┤M├──╫──░───■───┼────\n",
       "           ░ └───┘┌─┴─┐ ░ └───┘ └╥┘  ║  ░ ┌─┴─┐ │ ┌─┐\n",
       "q_2: ──────░──────┤ X ├─░────────╫───╫──░─┤ X ├─■─┤M├\n",
       "           ░      └───┘ ░        ║   ║  ░ └───┘   └╥┘\n",
       "c: 3/════════════════════════════╩═══╩═════════════╩═\n",
       "                                 1   0             2 </pre>"
      ],
      "text/plain": [
       "     ┌───┐ ░            ░      ┌───┐┌─┐ ░            \n",
       "q_0: ┤ H ├─░────────────░───■──┤ H ├┤M├─░───────■────\n",
       "     └───┘ ░ ┌───┐      ░ ┌─┴─┐└┬─┬┘└╥┘ ░       │    \n",
       "q_1: ──────░─┤ H ├──■───░─┤ X ├─┤M├──╫──░───■───┼────\n",
       "           ░ └───┘┌─┴─┐ ░ └───┘ └╥┘  ║  ░ ┌─┴─┐ │ ┌─┐\n",
       "q_2: ──────░──────┤ X ├─░────────╫───╫──░─┤ X ├─■─┤M├\n",
       "           ░      └───┘ ░        ║   ║  ░ └───┘   └╥┘\n",
       "c: 3/════════════════════════════╩═══╩═════════════╩═\n",
       "                                 1   0             2 "
      ]
     },
     "execution_count": 13,
     "metadata": {},
     "output_type": "execute_result"
    }
   ],
   "source": [
    "qc.draw()"
   ]
  },
  {
   "cell_type": "code",
   "execution_count": 14,
   "metadata": {},
   "outputs": [],
   "source": [
    "# We are going to simulate the code with qasm using 1000 shots \n",
    "backend = Aer.get_backend('qasm_simulator')\n",
    "job_simulator = execute(qc, backend, shots=1000)\n",
    "\n",
    "# store the results of the simulation in a variable\n",
    "result_simulator = job_simulator.result()"
   ]
  },
  {
   "cell_type": "code",
   "execution_count": 15,
   "metadata": {},
   "outputs": [
    {
     "name": "stdout",
     "output_type": "stream",
     "text": [
      "{'000': 119, '001': 136, '010': 117, '011': 126, '100': 112, '101': 134, '110': 132, '111': 124}\n"
     ]
    },
    {
     "data": {
      "image/png": "[encoded data removed]",
      "text/plain": [
       "<Figure size 504x360 with 1 Axes>"
      ]
     },
     "execution_count": 15,
     "metadata": {},
     "output_type": "execute_result"
    }
   ],
   "source": [
    "# we are going to count the frequcy of each possible states and plot it in a histogram\n",
    "counts = result_simulator.get_counts(qc)\n",
    "print(counts)\n",
    "plot_histogram(counts)"
   ]
  },
  {
   "attachments": {},
   "cell_type": "markdown",
   "metadata": {},
   "source": [
    "Read the x-axis labels of the histogram as c_2, c_1 and c_0.\n",
    "(c_0 measures q_0, c_1 measures q_1 and c_2 measures q_2)\n",
    "Observe that c_2 has a value of 0 for 50% of the time and a value of 1 for the remaining 50% \n"
   ]
  }
 ],
 "metadata": {
  "kernelspec": {
   "display_name": "Python 3",
   "language": "python",
   "name": "python3"
  },
  "language_info": {
   "codemirror_mode": {
    "name": "ipython",
    "version": 3
   },
   "file_extension": ".py",
   "mimetype": "text/x-python",
   "name": "python",
   "nbconvert_exporter": "python",
   "pygments_lexer": "ipython3",
   "version": "3.8.5"
  }
 },
 "nbformat": 4,
 "nbformat_minor": 4
}
